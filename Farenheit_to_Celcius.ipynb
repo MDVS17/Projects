{
  "nbformat": 4,
  "nbformat_minor": 0,
  "metadata": {
    "colab": {
      "provenance": []
    },
    "kernelspec": {
      "name": "python3",
      "display_name": "Python 3"
    },
    "language_info": {
      "name": "python"
    }
  },
  "cells": [
    {
      "cell_type": "markdown",
      "source": [
        "**Define the function and the inputs**"
      ],
      "metadata": {
        "id": "8CxSgKyx8-v8"
      }
    },
    {
      "cell_type": "markdown",
      "source": [
        "# **Degree Converter**"
      ],
      "metadata": {
        "id": "lKy6LPMpCbFl"
      }
    },
    {
      "cell_type": "code",
      "execution_count": 11,
      "metadata": {
        "colab": {
          "base_uri": "https://localhost:8080/"
        },
        "id": "lymOJSd76462",
        "outputId": "fdd208dd-a148-465c-b84f-4ce6fb54c1d4"
      },
      "outputs": [
        {
          "output_type": "stream",
          "name": "stdout",
          "text": [
            "Enter the temperature value: 10\n",
            "Enter the temperature unit (K / C / F): b\n",
            "Temperature unite invalida. Must be F, C or K.\n"
          ]
        }
      ],
      "source": [
        "### Degree Converter\n",
        "\n",
        "def temp_convert():\n",
        "  try:\n",
        "      temp = float(input(\"Enter the temperature value: \"))\n",
        "      unit = input(\"Enter the temperature unit (K / C / F): \").upper()\n",
        "\n",
        "      if unit == 'F':\n",
        "           #Convert to Celsius and Kelvin\n",
        "            celsius = (temp-32)*5/9\n",
        "            kelvin = celsius +273.15\n",
        "            print(f\"{temp} farenheit is equivalent to {celsius:.2f} celsius and {kelvin:.2f} Kelvin.\")\n",
        "      elif unit == 'C':\n",
        "            # Convert Celsius to Fahrenheit and Kelvin\n",
        "            fahrenheit = (temp * 9/5) + 32\n",
        "            kelvin = temp + 273.15\n",
        "            print(f\"{temp} celsius is equivalent to {fahrenheit:.2f} Fahrenheit and {kelvin:.2f} Kelvin.\")\n",
        "      elif unit == 'K':\n",
        "            # Convert from Kelvin to Celsius and Fahrenheit\n",
        "            celsius = temp - 273.15\n",
        "            fahrenheit = (celsius * 9/5) + 32\n",
        "            print(f\"{temp} Kelvin is equivalent to {celsius:.2f} Celsius and {fahrenheit:.2f} Fahrenheit.\")\n",
        "      else:\n",
        "            print(\"Temperature unite invalida. Must be F, C or K.\")\n",
        "  except ValueError:\n",
        "        print(\"Please enter a valid number for the temperature.\")\n",
        "\n",
        "if __name__ == \"__main__\":\n",
        "    temp_convert()\n"
      ]
    }
  ]
}